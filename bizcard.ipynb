{
 "cells": [
  {
   "cell_type": "code",
   "execution_count": 85,
   "metadata": {},
   "outputs": [],
   "source": [
    "import os\n",
    "import easyocr\n",
    "import numpy as np\n",
    "import re\n",
    "import pandas as pd\n",
    "from PIL import Image\n",
    "import mysql.connector as sql\n"
   ]
  },
  {
   "cell_type": "code",
   "execution_count": 150,
   "metadata": {},
   "outputs": [
    {
     "name": "stderr",
     "output_type": "stream",
     "text": [
      "Using CPU. Note: This module is much faster with a GPU.\n"
     ]
    }
   ],
   "source": [
    "reader = easyocr.Reader(['en'],gpu = False)"
   ]
  },
  {
   "cell_type": "code",
   "execution_count": 153,
   "metadata": {},
   "outputs": [
    {
     "data": {
      "text/plain": [
       "['REVANTH',\n",
       " 'Marketing Executive',\n",
       " '123 ABC St,, HYDRABAD, TamilNadu;',\n",
       " '600001',\n",
       " '+91-456-1234',\n",
       " 'hello@CHRISTMAS.com',\n",
       " 'Family',\n",
       " 'wwW.CHRISTMAS.com',\n",
       " 'Restaurant']"
      ]
     },
     "execution_count": 153,
     "metadata": {},
     "output_type": "execute_result"
    }
   ],
   "source": [
    "im = Image.open(r\"F:\\VS Code\\4.png\")\n",
    "im_arr= np.array(im)\n",
    "text = reader.readtext(im_arr,detail= 0)\n",
    "text\n",
    "\n"
   ]
  },
  {
   "cell_type": "code",
   "execution_count": 154,
   "metadata": {},
   "outputs": [
    {
     "data": {
      "text/plain": [
       "{'NAME': ['REVANTH'],\n",
       " 'DESIGNATION': ['Marketing Executive'],\n",
       " 'ADDRESS': ['None'],\n",
       " 'COMPANY_NAME': ['FamilyRestaurant'],\n",
       " 'CONTACT': ['+91-456-1234'],\n",
       " 'EMAIL': ['hello@christmas.com'],\n",
       " 'WEBSITE': ['www.christmas.com'],\n",
       " 'PINCODE': ['123 ABC St,, HYDRABAD, TamilNadu;600001']}"
      ]
     },
     "execution_count": 154,
     "metadata": {},
     "output_type": "execute_result"
    }
   ],
   "source": [
    "def extract_data(data):\n",
    "    result = {\"NAME\": [], \"DESIGNATION\": [], \"ADDRESS\": [], \"COMPANY_NAME\": [], \"CONTACT\": [], \"EMAIL\": [], \"WEBSITE\": [], \"PINCODE\": []}\n",
    "\n",
    "\n",
    "    result[\"NAME\"].append(data[0])\n",
    "    result[\"DESIGNATION\"].append(data[1])\n",
    "\n",
    "    for item in range(2, len(data)):\n",
    "\n",
    "        if \"@\"  in data[item] and \".com\" in data[item]:\n",
    "            result[\"EMAIL\"].append(data[item].lower())\n",
    "\n",
    "        elif 'www' in data[item] or 'WWW' in data[item] or 'wwW' in data[item]  and \".com\" in data[item]:\n",
    "            result[\"WEBSITE\"].append(data[item].lower())\n",
    "\n",
    "        elif \"Tamil Nadu\" in data[item] or \"TamilNadu\" in data[item]  or re.match(r'\\b\\d{6}\\b', data[item])  or data[item].isdigit():\n",
    "            result[\"PINCODE\"].append(data[item])\n",
    "\n",
    "        elif re.match(r\"^[a-zA-Z\\s,]\", data[item]):\n",
    "            result[\"COMPANY_NAME\"].append(data[item])\n",
    "\n",
    "        elif data[item].startswith(\"+\") or (data[item].replace(\"-\", \"\").isdigit()):\n",
    "            result[\"CONTACT\"].append(data[item])\n",
    "            \n",
    "        else:\n",
    "            filtered_add = re.sub(r\"[,;]\", \"\", data[item])\n",
    "            result[\"ADDRESS\"].append(filtered_add)\n",
    "\n",
    "    for key, value in result.items():\n",
    "        if len(value)>0:\n",
    "            something = ''.join(value)\n",
    "            result[key] = [something]\n",
    "\n",
    "        else:\n",
    "            value = 'None'\n",
    "            result[key] = [value]\n",
    "\n",
    "\n",
    "            \n",
    "    return result\n",
    "extract_data(text)"
   ]
  },
  {
   "cell_type": "code",
   "execution_count": 131,
   "metadata": {},
   "outputs": [],
   "source": [
    "my_db = sql.connect( \n",
    "             host=\"127.0.0.1\",\n",
    "             user=\"root\",\n",
    "             database = \"BizcardX\",\n",
    "             port = 3306,\n",
    "             password=\"2369\",\n",
    "              ) \n",
    "      \n",
    "mycursor = my_db.cursor() \n"
   ]
  },
  {
   "cell_type": "code",
   "execution_count": 132,
   "metadata": {},
   "outputs": [],
   "source": [
    "def convert_sql(x):\n",
    "    table = ''' CREATE TABLE IF NOT EXISTS Card_details ( Name VARCHAR(225) PRIMARY KEY,\n",
    "                                                          Designation VARCHAR(225),\n",
    "                                                          Address VARCHAR(225),\n",
    "                                                          Company_Name VARCHAR(225),\n",
    "                                                          Contact VARCHAR(225),\n",
    "                                                          Email VARCHAR(225),\n",
    "                                                          Website VARCHAR(225),\n",
    "                                                          Pincode VARCHAR(225) )'''\n",
    "    mycursor.execute(table)\n",
    "    my_db.commit()\n",
    "\n",
    "    df = pd.DataFrame(x)\n",
    "\n",
    "    insert_data = ''' INSERT INTO Card_details ( Name , Designation, Address, Company_Name, Contact, Email, Website, Pincode)\n",
    "                                               VALUES (%s,%s,%s,%s,%s,%s,%s,%s)'''\n",
    "    \n",
    "\n",
    "    for index, row in df.iterrows():\n",
    "        values = tuple(row)\n",
    "        mycursor.execute(insert_data, values)\n",
    "        my_db.commit()\n",
    "\n",
    "    "
   ]
  },
  {
   "cell_type": "code",
   "execution_count": 133,
   "metadata": {},
   "outputs": [],
   "source": [
    "details = extract_data(text)\n",
    "convert_sql(details)"
   ]
  },
  {
   "cell_type": "code",
   "execution_count": 138,
   "metadata": {},
   "outputs": [],
   "source": [
    "def delete_table(x):\n",
    "    mycursor.execute(\"DELETE FROM Card_details WHERE Name = %s \", (x,))\n",
    "    table = mycursor.fetchall()\n",
    "    my_db.commit()\n",
    "\n",
    "    mycursor.execute(\"SELECT * FROM Card_details\")\n",
    "    table1 = mycursor.fetchall()\n",
    "\n",
    "    df = pd.DataFrame(table1, columns = mycursor.column_names)\n",
    "\n",
    "    my_db.commit()\n",
    "\n",
    "    return df\n",
    "\n"
   ]
  },
  {
   "cell_type": "code",
   "execution_count": 139,
   "metadata": {},
   "outputs": [
    {
     "data": {
      "text/html": [
       "<div>\n",
       "<style scoped>\n",
       "    .dataframe tbody tr th:only-of-type {\n",
       "        vertical-align: middle;\n",
       "    }\n",
       "\n",
       "    .dataframe tbody tr th {\n",
       "        vertical-align: top;\n",
       "    }\n",
       "\n",
       "    .dataframe thead th {\n",
       "        text-align: right;\n",
       "    }\n",
       "</style>\n",
       "<table border=\"1\" class=\"dataframe\">\n",
       "  <thead>\n",
       "    <tr style=\"text-align: right;\">\n",
       "      <th></th>\n",
       "      <th>Name</th>\n",
       "      <th>Designation</th>\n",
       "      <th>Address</th>\n",
       "      <th>Company_Name</th>\n",
       "      <th>Contact</th>\n",
       "      <th>Email</th>\n",
       "      <th>Website</th>\n",
       "      <th>Pincode</th>\n",
       "    </tr>\n",
       "  </thead>\n",
       "  <tbody>\n",
       "    <tr>\n",
       "      <th>0</th>\n",
       "      <td>SANTHOSH</td>\n",
       "      <td>Technical Manager</td>\n",
       "      <td>None</td>\n",
       "      <td>Sun Electricals</td>\n",
       "      <td>+123-456-1234</td>\n",
       "      <td>hello@sun.com</td>\n",
       "      <td>www.suncom</td>\n",
       "      <td>123 ABC St , Tirupur, TamilNadu;641603</td>\n",
       "    </tr>\n",
       "    <tr>\n",
       "      <th>1</th>\n",
       "      <td>Selva</td>\n",
       "      <td>DATA MANAGER</td>\n",
       "      <td>123 ABC St  Chennai</td>\n",
       "      <td>selvadigitals</td>\n",
       "      <td>+123-456-7890+123-456-7891</td>\n",
       "      <td>hello@xyz1.com</td>\n",
       "      <td>www xyzi.com</td>\n",
       "      <td>TamilNadu 600113</td>\n",
       "    </tr>\n",
       "    <tr>\n",
       "      <th>2</th>\n",
       "      <td>Amit kumar</td>\n",
       "      <td>CEO &amp; FOUNDER</td>\n",
       "      <td>123 global</td>\n",
       "      <td>global.comErode,GLOBALINSURANCESt ,</td>\n",
       "      <td>123-456-7569</td>\n",
       "      <td>hello@global.com</td>\n",
       "      <td>www</td>\n",
       "      <td>TamilNadu 600115</td>\n",
       "    </tr>\n",
       "  </tbody>\n",
       "</table>\n",
       "</div>"
      ],
      "text/plain": [
       "         Name        Designation              Address  \\\n",
       "0    SANTHOSH  Technical Manager                 None   \n",
       "1       Selva       DATA MANAGER  123 ABC St  Chennai   \n",
       "2  Amit kumar      CEO & FOUNDER           123 global   \n",
       "\n",
       "                          Company_Name                     Contact  \\\n",
       "0                      Sun Electricals               +123-456-1234   \n",
       "1                        selvadigitals  +123-456-7890+123-456-7891   \n",
       "2  global.comErode,GLOBALINSURANCESt ,                123-456-7569   \n",
       "\n",
       "              Email       Website                                 Pincode  \n",
       "0     hello@sun.com    www.suncom  123 ABC St , Tirupur, TamilNadu;641603  \n",
       "1    hello@xyz1.com  www xyzi.com                        TamilNadu 600113  \n",
       "2  hello@global.com           www                        TamilNadu 600115  "
      ]
     },
     "execution_count": 139,
     "metadata": {},
     "output_type": "execute_result"
    }
   ],
   "source": [
    "def show_table(x):\n",
    "    mycursor.execute(\"SELECT * FROM Card_details\")\n",
    "    table = mycursor.fetchall()\n",
    "\n",
    "    df = pd.DataFrame(table, columns = mycursor.column_names)\n",
    "\n",
    "    my_db.commit()\n",
    "\n",
    "    return df"
   ]
  },
  {
   "cell_type": "code",
   "execution_count": null,
   "metadata": {},
   "outputs": [],
   "source": []
  }
 ],
 "metadata": {
  "kernelspec": {
   "display_name": "base",
   "language": "python",
   "name": "python3"
  },
  "language_info": {
   "codemirror_mode": {
    "name": "ipython",
    "version": 3
   },
   "file_extension": ".py",
   "mimetype": "text/x-python",
   "name": "python",
   "nbconvert_exporter": "python",
   "pygments_lexer": "ipython3",
   "version": "3.11.8"
  }
 },
 "nbformat": 4,
 "nbformat_minor": 2
}
